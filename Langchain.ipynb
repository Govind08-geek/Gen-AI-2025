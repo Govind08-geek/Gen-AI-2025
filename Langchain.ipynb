{
  "nbformat": 4,
  "nbformat_minor": 0,
  "metadata": {
    "colab": {
      "provenance": [],
      "authorship_tag": "ABX9TyMFmaSBdL3cDlSRIMLhPOQo",
      "include_colab_link": true
    },
    "kernelspec": {
      "name": "python3",
      "display_name": "Python 3"
    },
    "language_info": {
      "name": "python"
    }
  },
  "cells": [
    {
      "cell_type": "markdown",
      "metadata": {
        "id": "view-in-github",
        "colab_type": "text"
      },
      "source": [
        "<a href=\"https://colab.research.google.com/github/Govind08-geek/Gen-AI-2025/blob/main/Langchain.ipynb\" target=\"_parent\"><img src=\"https://colab.research.google.com/assets/colab-badge.svg\" alt=\"Open In Colab\"/></a>"
      ]
    },
    {
      "cell_type": "code",
      "execution_count": null,
      "metadata": {
        "id": "1XLh8EFYJU15"
      },
      "outputs": [],
      "source": [
        "!pip install langchain_community\n",
        "# Install dependencies (run once)\n",
        "!pip install -q langchain openai gradio\n",
        "\n",
        "import os\n",
        "from langchain.llms import OpenAI\n",
        "from langchain.chains.summarize import load_summarize_chain\n",
        "from langchain.docstore.document import Document\n",
        "import gradio as gr\n",
        "\n",
        "# Set your OpenAI API key here (or set in env variables)\n",
        "os.environ[\"OPENAI_API_KEY\"] = \"your-openai-api-key\"\n",
        "\n",
        "# Initialize the OpenAI LLM\n",
        "llm = OpenAI(temperature=0)\n",
        "\n",
        "# Summarization chain loader - using 'map_reduce' method\n",
        "chain = load_summarize_chain(llm, chain_type=\"map_reduce\")\n",
        "\n",
        "def summarize_text(text):\n",
        "    # Convert input text to a Document object\n",
        "    docs = [Document(page_content=text)]\n",
        "\n",
        "    # Run summarization chain\n",
        "    summary = chain.run(docs)\n",
        "\n",
        "    return summary\n",
        "\n",
        "# Gradio interface for easy web UI\n",
        "iface = gr.Interface(\n",
        "    fn=summarize_text,\n",
        "    inputs=gr.Textbox(lines=10, label=\"Input Text\"),\n",
        "    outputs=gr.Textbox(lines=5, label=\"Summary\"),\n",
        "    title=\"Simple Text Summarization with LangChain + OpenAI\"\n",
        ")\n",
        "\n",
        "iface.launch(share=True)\n"
      ]
    }
  ]
}